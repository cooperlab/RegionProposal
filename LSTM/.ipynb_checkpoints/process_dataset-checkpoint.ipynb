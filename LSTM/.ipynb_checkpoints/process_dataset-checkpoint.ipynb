{
 "cells": [
  {
   "cell_type": "code",
   "execution_count": 11,
   "metadata": {
    "collapsed": false,
    "scrolled": false
   },
   "outputs": [
    {
     "name": "stdout",
     "output_type": "stream",
     "text": [
      "Error\n",
      "w_7489.jpg\n",
      "((2908, 500, 500), (727, 500, 500), (909, 500, 500))\n",
      "Finished\n"
     ]
    }
   ],
   "source": [
    "import os\n",
    "import cv2\n",
    "import json\n",
    "import numpy as np\n",
    "from sklearn.cross_validation import train_test_split\n",
    "SRCDIR = '/home/nelson/PycharmProjects/RegionProposal/dataset/'\n",
    "DSTDIR = '/home/nelson/PycharmProjects/RegionProposal/dataset.npz'\n",
    "BBSRC = '/home/nelson/Desktop/WhalesNet/whales_bb.json' \n",
    "dirs = os.listdir(SRCDIR)\n",
    "all_samples = []\n",
    "ground_truth = []\n",
    "SIZE = 500\n",
    "with open(BBSRC) as json_file:\n",
    "    bb_json = json.load(json_file)\n",
    "    for el in bb_json:\n",
    "        \n",
    "        fname = el['filename'].split('/')[-1]\n",
    "        try:\n",
    "            im = cv2.imread(SRCDIR+fname, 0)\n",
    "            resized_image = cv2.resize(im, (SIZE, SIZE))\n",
    "            all_samples.append(resized_image)\n",
    "            annotations = el['annotations'][0]\n",
    "\n",
    "            # Generate and accumulate ground truth\n",
    "            r_h = float(SIZE)/im.shape[0]\n",
    "            r_w = float(SIZE)/im.shape[1]\n",
    "\n",
    "            x = annotations['x']*r_w\n",
    "            y = annotations['y']*r_h\n",
    "\n",
    "            height = annotations['height']*r_h\n",
    "            width = annotations['width']*r_w\n",
    "\n",
    "            gt = np.zeros((SIZE,SIZE))\n",
    "            gt[y:y+height, x:x+width] = 1.0\n",
    "\n",
    "            ground_truth.append(gt)\n",
    "        except:\n",
    "            print(\"Error\")\n",
    "            print(fname)\n",
    "            \n",
    "        #cv2.imshow('gt', gt)\n",
    "        #cv2.imshow('sample', resized_image)\n",
    "        #cv2.waitKey(0)\n",
    "        \n",
    "# Split data into train, valid and test\n",
    "X_train, X_test, y_train, y_test = train_test_split(all_samples, ground_truth, test_size=0.2)    \n",
    "X_train, X_valid, y_train, y_valid = train_test_split(X_train, y_train, test_size=0.2) \n",
    "\n",
    "print (np.array(X_train).shape, np.array(X_valid).shape, np.array(X_test).shape)\n",
    "np.savez(DSTDIR, X_train=X_train, X_valid=X_valid, X_test=X_test, y_train=y_train, y_valid=y_valid, y_test=y_test)\n",
    "print('Finished')"
   ]
  },
  {
   "cell_type": "code",
   "execution_count": 29,
   "metadata": {
    "collapsed": false
   },
   "outputs": [],
   "source": [
    "import theano.tensor as T\n",
    "import theano\n",
    "\n",
    "def sum_a_b(a, b):\n",
    "    return [a+b, a]\n",
    "\n",
    "a = T.ivector('a')\n",
    "b = T.iscalar('b')\n",
    "\n",
    "results, updates = theano.scan(\n",
    "    sum_a_b,\n",
    "    sequences=[a],\n",
    "    outputs_info=[b, None])\n",
    "\n",
    "f = theano.function([a, b], results, updates=updates)\n"
   ]
  },
  {
   "cell_type": "code",
   "execution_count": 31,
   "metadata": {
    "collapsed": false
   },
   "outputs": [
    {
     "data": {
      "text/plain": [
       "[array([ 3,  5,  8, 12], dtype=int32), array([1, 2, 3, 4], dtype=int32)]"
      ]
     },
     "execution_count": 31,
     "metadata": {},
     "output_type": "execute_result"
    }
   ],
   "source": [
    "f([1, 2, 3, 4], 2)\n"
   ]
  },
  {
   "cell_type": "code",
   "execution_count": 33,
   "metadata": {
    "collapsed": false
   },
   "outputs": [
    {
     "data": {
      "text/plain": [
       "array([0, 1, 2, 3, 4, 5, 6, 7, 8, 9])"
      ]
     },
     "execution_count": 33,
     "metadata": {},
     "output_type": "execute_result"
    }
   ],
   "source": [
    "import numpy as np\n",
    "np.arange(10\n",
    "         )"
   ]
  },
  {
   "cell_type": "code",
   "execution_count": null,
   "metadata": {
    "collapsed": true
   },
   "outputs": [],
   "source": []
  }
 ],
 "metadata": {
  "kernelspec": {
   "display_name": "Python 2",
   "language": "python",
   "name": "python2"
  },
  "language_info": {
   "codemirror_mode": {
    "name": "ipython",
    "version": 2
   },
   "file_extension": ".py",
   "mimetype": "text/x-python",
   "name": "python",
   "nbconvert_exporter": "python",
   "pygments_lexer": "ipython2",
   "version": "2.7.6"
  }
 },
 "nbformat": 4,
 "nbformat_minor": 0
}
