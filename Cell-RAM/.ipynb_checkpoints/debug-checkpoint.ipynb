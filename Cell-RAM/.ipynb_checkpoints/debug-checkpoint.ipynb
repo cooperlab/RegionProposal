{
 "cells": [
  {
   "cell_type": "code",
   "execution_count": 1,
   "metadata": {
    "collapsed": false
   },
   "outputs": [
    {
     "name": "stderr",
     "output_type": "stream",
     "text": [
      "Using gpu device 0: GeForce GTX 980 (CNMeM is disabled, CuDNN 4007)\n"
     ]
    }
   ],
   "source": [
    "import theano.tensor as T\n",
    "import theano\n",
    "import numpy as np\n",
    "def _log_likelihood(x_vars, means):\n",
    "    \"\"\"\n",
    "    This function computes the symbolic log-likelihood for a diagonal gaussian defined by the given\n",
    "    means and a fixed sigma.\n",
    "    :param x_vars:\n",
    "    :param means:\n",
    "    :return:\n",
    "    \"\"\"\n",
    "    std = T.fill(T.zeros_like(means), 0.1)\n",
    "    zs = (x_vars - means)/std\n",
    "    return -T.sum(T.log(std), axis=-1) - \\\n",
    "            0.5 * T.sum(T.square(zs), axis=-1) - \\\n",
    "            0.5 * means.shape[-1] * np.log(2 * np.pi)\n",
    "        "
   ]
  },
  {
   "cell_type": "code",
   "execution_count": 2,
   "metadata": {
    "collapsed": false
   },
   "outputs": [],
   "source": [
    "means = T.tensor4('means', dtype=T.config.floatX)\n",
    "x_0 = T.tensor4('x_0', dtype=T.config.floatX)\n",
    "log_l = _log_likelihood(x_0, means)\n",
    "\n",
    "fn = theano.function(inputs=[x_0, means], outputs=[log_l])"
   ]
  },
  {
   "cell_type": "code",
   "execution_count": 3,
   "metadata": {
    "collapsed": false
   },
   "outputs": [
    {
     "name": "stdout",
     "output_type": "stream",
     "text": [
      "(1, 10, 8)\n",
      "(1, 10, 8)\n"
     ]
    }
   ],
   "source": [
    "means = np.random.rand(1, 10, 8, 2).astype('float32')\n",
    "x_0 = np.random.rand(1, 10, 8, 2).astype('float32')\n",
    "\n",
    "rewards = np.random.rand(1, 10, 8).astype('float32')\n",
    "log_pi = fn(x_0, means)[0]\n",
    "\n",
    "print log_pi.shape\n",
    "print rewards.shape"
   ]
  },
  {
   "cell_type": "code",
   "execution_count": 15,
   "metadata": {
    "collapsed": false
   },
   "outputs": [
    {
     "name": "stdout",
     "output_type": "stream",
     "text": [
      "7.4585369531\n"
     ]
    },
    {
     "ename": "NameError",
     "evalue": "name 'r_params' is not defined",
     "output_type": "error",
     "traceback": [
      "\u001b[1;31m---------------------------------------------------------------------------\u001b[0m",
      "\u001b[1;31mNameError\u001b[0m                                 Traceback (most recent call last)",
      "\u001b[1;32m<ipython-input-15-29a09fa881e1>\u001b[0m in \u001b[0;36m<module>\u001b[1;34m()\u001b[0m\n\u001b[0;32m      2\u001b[0m \u001b[1;32mprint\u001b[0m \u001b[0msurr\u001b[0m\u001b[1;33m[\u001b[0m\u001b[1;36m0\u001b[0m\u001b[1;33m]\u001b[0m\u001b[1;33m\u001b[0m\u001b[0m\n\u001b[0;32m      3\u001b[0m \u001b[1;33m\u001b[0m\u001b[0m\n\u001b[1;32m----> 4\u001b[1;33m \u001b[0mT\u001b[0m\u001b[1;33m.\u001b[0m\u001b[0mmean\u001b[0m\u001b[1;33m(\u001b[0m\u001b[1;33m[\u001b[0m\u001b[0mT\u001b[0m\u001b[1;33m.\u001b[0m\u001b[0mgrad\u001b[0m\u001b[1;33m(\u001b[0m\u001b[0msurr\u001b[0m\u001b[1;33m[\u001b[0m\u001b[0mb\u001b[0m\u001b[1;33m]\u001b[0m\u001b[1;33m,\u001b[0m \u001b[0mr_params\u001b[0m\u001b[1;33m,\u001b[0m \u001b[0mdisconnected_inputs\u001b[0m\u001b[1;33m=\u001b[0m\u001b[1;34m'ignore'\u001b[0m\u001b[1;33m)\u001b[0m \u001b[1;32mfor\u001b[0m \u001b[0mb\u001b[0m \u001b[1;32min\u001b[0m \u001b[0mrange\u001b[0m\u001b[1;33m(\u001b[0m\u001b[1;36m1\u001b[0m\u001b[1;33m)\u001b[0m\u001b[1;33m]\u001b[0m\u001b[1;33m)\u001b[0m\u001b[1;33m\u001b[0m\u001b[0m\n\u001b[0m",
      "\u001b[1;31mNameError\u001b[0m: name 'r_params' is not defined"
     ]
    }
   ],
   "source": [
    "surr = -np.mean(log_pi * rewards, axis=(1, 2))\n",
    "print surr[0]\n",
    "\n",
    "T.mean([T.grad(surr[b], r_params, disconnected_inputs='ignore') for b in range(1)])"
   ]
  },
  {
   "cell_type": "code",
   "execution_count": 26,
   "metadata": {
    "collapsed": false
   },
   "outputs": [
    {
     "name": "stdout",
     "output_type": "stream",
     "text": [
      "(1, 2)\n"
     ]
    }
   ],
   "source": [
    "from theano.sandbox.rng_mrg import MRG_RandomStreams as RandomStreams\n",
    "_srng = RandomStreams(np.random.randint(1, 2147462579))\n",
    "\n",
    "loc_mean_t = np.random.rand(1, 2).astype('float32')\n",
    "means = T.fmatrix('means')\n",
    "\n",
    "loc_t = T.reshape(T.stack([_srng.normal((1, 2), avg=means[b, :], std=0.1) for b in xrange(1)]), (1, 2))\n",
    "\n",
    "fn = theano.function(inputs=[means], outputs=[loc_t])\n",
    "print fn(loc_mean_t)[0].shape"
   ]
  },
  {
   "cell_type": "code",
   "execution_count": 5,
   "metadata": {
    "collapsed": false
   },
   "outputs": [
    {
     "data": {
      "text/plain": [
       "[[1, 1, 1, 1, 1, 1, 1, 1, 1, 1],\n",
       " [1, 1, 1, 1, 1, 1, 1, 1, 1, 1],\n",
       " [1, 1, 1, 1, 1, 1, 1, 1, 1, 1],\n",
       " [1, 1, 1, 1, 1, 1, 1, 1, 1, 1],\n",
       " [1, 1, 1, 1, 1, 1, 1, 1, 1, 1],\n",
       " [1, 1, 1, 1, 1, 1, 1, 1, 1, 1],\n",
       " [1, 1, 1, 1, 1, 1, 1, 1, 1, 1],\n",
       " [1, 1, 1, 1, 1, 1, 1, 1, 1, 1],\n",
       " [1, 1, 1, 1, 1, 1, 1, 1, 1, 1],\n",
       " [1, 1, 1, 1, 1, 1, 1, 1, 1, 1],\n",
       " [1, 1, 1, 1, 1, 1, 1, 1, 1, 1],\n",
       " [1, 1, 1, 1, 1, 1, 1, 1, 1, 1],\n",
       " [1, 1, 1, 1, 1, 1, 1, 1, 1, 1],\n",
       " [1, 1, 1, 1, 1, 1, 1, 1, 1, 1],\n",
       " [1, 1, 1, 1, 1, 1, 1, 1, 1, 1],\n",
       " [1, 1, 1, 1, 1, 1, 1, 1, 1, 1],\n",
       " [1, 1, 1, 1, 1, 1, 1, 1, 1, 1],\n",
       " [1, 1, 1, 1, 1, 1, 1, 1, 1, 1],\n",
       " [1, 1, 1, 1, 1, 1, 1, 1, 1, 1],\n",
       " [1, 1, 1, 1, 1, 1, 1, 1, 1, 1]]"
      ]
     },
     "execution_count": 5,
     "metadata": {},
     "output_type": "execute_result"
    }
   ],
   "source": [
    "[[1 for i in range(10)] for j in range(20)]"
   ]
  },
  {
   "cell_type": "code",
   "execution_count": 1,
   "metadata": {
    "collapsed": false
   },
   "outputs": [
    {
     "name": "stdout",
     "output_type": "stream",
     "text": [
      "7\n"
     ]
    }
   ],
   "source": [
    "gorda = 5\n",
    "print gorda + 2"
   ]
  },
  {
   "cell_type": "code",
   "execution_count": 2,
   "metadata": {
    "collapsed": false
   },
   "outputs": [
    {
     "ename": "NameError",
     "evalue": "name 'E' is not defined",
     "output_type": "error",
     "traceback": [
      "\u001b[1;31m---------------------------------------------------------------------------\u001b[0m",
      "\u001b[1;31mNameError\u001b[0m                                 Traceback (most recent call last)",
      "\u001b[1;32m<ipython-input-2-7a6f5d5c42ae>\u001b[0m in \u001b[0;36m<module>\u001b[1;34m()\u001b[0m\n\u001b[1;32m----> 1\u001b[1;33m \u001b[0mx\u001b[0m \u001b[1;33m=\u001b[0m \u001b[0mE\u001b[0m\u001b[1;33m-\u001b[0m\u001b[1;36m10\u001b[0m\u001b[1;33m\u001b[0m\u001b[0m\n\u001b[0m",
      "\u001b[1;31mNameError\u001b[0m: name 'E' is not defined"
     ]
    }
   ],
   "source": [
    "x = 1e-10\n"
   ]
  },
  {
   "cell_type": "code",
   "execution_count": 10,
   "metadata": {
    "collapsed": false
   },
   "outputs": [],
   "source": [
    "import theano.tensor as T\n",
    "import theano\n",
    "import numpy as np\n",
    "\n",
    "loc_tm1_var = T.fmatrix('loc_tm1')\n",
    "x_var = T.tensor4('x', dtype=T.config.floatX)\n",
    "\n",
    "# Helper function\n",
    "def _rho(loc_tm1_var, x_var):\n",
    "    \"\"\"\n",
    "    This function will be replaced\n",
    "    :param loc_tm1:\n",
    "    :param x:\n",
    "    :return: x_t (n_batch, img_height, img_width) and x_flattened (n_batch, img_height*img_width)\n",
    "    \"\"\"\n",
    "\n",
    "    x_t_i = []\n",
    "    loc_tm1_clipped = T.clip(loc_tm1_var, -1, 1)\n",
    "    for b in xrange(1):\n",
    "        y_start = theano.tensor.cast((1 + loc_tm1_clipped[0][0]) * (250 - 64) / 2,\n",
    "                                     'int32')\n",
    "        x_start = theano.tensor.cast((1 + loc_tm1_clipped[0][1]) * (250 - 64) / 2,\n",
    "                                     'int32')\n",
    "        img = x_var[b, :, y_start:y_start + 64, x_start:x_start + 64]\n",
    "        x_t_i.append(img)\n",
    "\n",
    "    x_t = T.stack(x_t_i, axis=0)\n",
    "    x_t_flattened = x_t.reshape((1, -1))\n",
    "    return x_t, x_t_flattened\n",
    "\n",
    "x_t, x_t_flattened = _rho(loc_tm1_var, x_var)"
   ]
  },
  {
   "cell_type": "code",
   "execution_count": 13,
   "metadata": {
    "collapsed": false
   },
   "outputs": [
    {
     "name": "stdout",
     "output_type": "stream",
     "text": [
      "(1, 16384)\n"
     ]
    }
   ],
   "source": [
    "loc_tm1 = np.random.rand(1, 2).astype('float32')\n",
    "x = np.random.rand(1, 4, 250, 250).astype('float32')\n",
    "\n",
    "fn = theano.function(inputs=[loc_tm1_var, x_var], outputs=[x_t_flattened])\n",
    "print fn(loc_tm1, x)[0].shape"
   ]
  },
  {
   "cell_type": "code",
   "execution_count": 30,
   "metadata": {
    "collapsed": false
   },
   "outputs": [],
   "source": [
    "from scipy import stats\n",
    "npzfile = np.load('../dataset_small_color.npz')\n",
    "X_train = npzfile['X_train']\n",
    "y_train = npzfile['y_train']\n",
    "\n",
    "# Normalize data\n",
    "X_train = np.transpose(stats.zscore(X_train, axis=0), (0, 3, 1, 2))[:, :3, :, :]"
   ]
  },
  {
   "cell_type": "code",
   "execution_count": 31,
   "metadata": {
    "collapsed": false
   },
   "outputs": [
    {
     "name": "stdout",
     "output_type": "stream",
     "text": [
      "True\n"
     ]
    }
   ],
   "source": [
    "print np.isnan(X_train).any()"
   ]
  },
  {
   "cell_type": "code",
   "execution_count": null,
   "metadata": {
    "collapsed": true
   },
   "outputs": [],
   "source": []
  }
 ],
 "metadata": {
  "kernelspec": {
   "display_name": "Python 2",
   "language": "python",
   "name": "python2"
  },
  "language_info": {
   "codemirror_mode": {
    "name": "ipython",
    "version": 2
   },
   "file_extension": ".py",
   "mimetype": "text/x-python",
   "name": "python",
   "nbconvert_exporter": "python",
   "pygments_lexer": "ipython2",
   "version": "2.7.6"
  }
 },
 "nbformat": 4,
 "nbformat_minor": 0
}
