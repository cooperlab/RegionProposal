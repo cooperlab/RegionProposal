{
 "cells": [
  {
   "cell_type": "code",
   "execution_count": 5,
   "metadata": {
    "collapsed": false
   },
   "outputs": [],
   "source": [
    "import shutil\n",
    "import numpy as np\n",
    "\n",
    "dir_path = '/home/nelson/Desktop/WhalesNet/'\n",
    "labels = []\n",
    "with open(dir_path+'train.csv') as f:\n",
    "    w_map = [(line.split(',')[0], line.split(',')[1][:-1]) for line in f.readlines()]\n",
    "    for (f_name, w_name) in w_map:\n",
    "        if w_name == 'whale_48813' or w_name == 'whale_99558' or w_name == 'whale_59255' or w_name == 'whale_87291' or w_name == 'whale_33152':\n",
    "            shutil.copy(dir_path+'imgs/'+f_name, '/home/nelson/PycharmProjects/RegionProposal/dataset/'+f_name)\n",
    "            labels.append((f_name, w_name))\n",
    "np.save('labels.npy', labels)"
   ]
  },
  {
   "cell_type": "code",
   "execution_count": 13,
   "metadata": {
    "collapsed": false
   },
   "outputs": [],
   "source": [
    "from sklearn.cross_validation import train_test_split\n",
    "\n",
    "ref = {}\n",
    "test_set = []\n",
    "train_set = []\n",
    "for (f_name, w_name) in w_map:\n",
    "    if w_name == 'whale_48813' or w_name == 'whale_99558' or w_name == 'whale_59255' or w_name == 'whale_87291' or w_name == 'whale_33152':\n",
    "        \n",
    "        if w_name in ref:\n",
    "            if ref[w_name] < 5:\n",
    "                test_set.append((f_name, w_name))\n",
    "                ref[w_name] += 1\n",
    "            else:\n",
    "                train_set.append((f_name, w_name))\n",
    "        else:\n",
    "            ref[w_name] = 1\n",
    "            test_set.append((f_name, w_name))\n",
    "\n",
    "np.save('/home/nelson/PycharmProjects/RegionProposal/train.npy', train_set)\n",
    "np.save('/home/nelson/PycharmProjects/RegionProposal/test.npy', test_set)"
   ]
  },
  {
   "cell_type": "code",
   "execution_count": null,
   "metadata": {
    "collapsed": true
   },
   "outputs": [],
   "source": [
    ""
   ]
  }
 ],
 "metadata": {
  "kernelspec": {
   "display_name": "Python 2",
   "language": "python",
   "name": "python2"
  },
  "language_info": {
   "codemirror_mode": {
    "name": "ipython",
    "version": 2.0
   },
   "file_extension": ".py",
   "mimetype": "text/x-python",
   "name": "python",
   "nbconvert_exporter": "python",
   "pygments_lexer": "ipython2",
   "version": "2.7.6"
  }
 },
 "nbformat": 4,
 "nbformat_minor": 0
}